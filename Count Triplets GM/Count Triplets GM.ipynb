{
 "cells": [
  {
   "cell_type": "code",
   "execution_count": 1,
   "metadata": {},
   "outputs": [
    {
     "name": "stdout",
     "output_type": "stream",
     "text": [
      "4 2\n",
      "1 2 2 4\n",
      "2\n"
     ]
    }
   ],
   "source": [
    "#!/bin/python3\n",
    "\n",
    "import math\n",
    "import os\n",
    "import random\n",
    "import re\n",
    "import sys\n",
    "\n",
    "# Complete the countTriplets function below.\n",
    "def countTriplets(arr, r):\n",
    "    counter = 0\n",
    "    dict_doubles = {}\n",
    "    dict_singles = {}\n",
    "\n",
    "    for x in reversed(arr):\n",
    "        r_x = x * r\n",
    "        r_r_x = r_x * r\n",
    "\n",
    "        counter += dict_doubles.get((r_x, r_r_x), 0)\n",
    "\n",
    "        dict_doubles[(x, r_x)] = dict_doubles.get((x, r_x), 0) + dict_singles.get(r_x, 0)\n",
    "\n",
    "        dict_singles[x] =  dict_singles.get(x, 0) + 1\n",
    "\n",
    "    return counter\n",
    "\n",
    "if __name__ == '__main__':\n",
    "    nr = input().rstrip().split()\n",
    "\n",
    "    n = int(nr[0])\n",
    "\n",
    "    r = int(nr[1])\n",
    "\n",
    "    arr = list(map(int, input().rstrip().split()))\n",
    "\n",
    "    ans = countTriplets(arr, r)\n",
    "\n",
    "    print(str(ans))\n"
   ]
  },
  {
   "cell_type": "code",
   "execution_count": null,
   "metadata": {},
   "outputs": [],
   "source": []
  }
 ],
 "metadata": {
  "kernelspec": {
   "display_name": "Python 3",
   "language": "python",
   "name": "python3"
  },
  "language_info": {
   "codemirror_mode": {
    "name": "ipython",
    "version": 3
   },
   "file_extension": ".py",
   "mimetype": "text/x-python",
   "name": "python",
   "nbconvert_exporter": "python",
   "pygments_lexer": "ipython3",
   "version": "3.7.7"
  }
 },
 "nbformat": 4,
 "nbformat_minor": 4
}
