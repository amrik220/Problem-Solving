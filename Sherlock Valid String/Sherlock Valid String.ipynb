{
 "cells": [
  {
   "cell_type": "code",
   "execution_count": 2,
   "metadata": {},
   "outputs": [
    {
     "name": "stdout",
     "output_type": "stream",
     "text": [
      "asasasasasa\n",
      "[6, 5] [1, 1]\n",
      "YES\n",
      "\n"
     ]
    }
   ],
   "source": [
    "#!/bin/python3\n",
    "\n",
    "import math\n",
    "import os\n",
    "import random\n",
    "import re\n",
    "import sys\n",
    "from collections import Counter\n",
    "\n",
    "# Complete the isValid function below.\n",
    "def isValid(s):\n",
    "    counts = list(Counter(s).values())\n",
    "    dict_counts = Counter(counts)\n",
    "    counts_counts = list(dict_counts.values())\n",
    "    print(counts, counts_counts)\n",
    "\n",
    "    if len(counts_counts) == 1:\n",
    "        return 'YES'\n",
    "\n",
    "    if len(counts_counts) == 2:\n",
    "        xkeys = list(dict_counts.keys())\n",
    "        if 1 in counts_counts and (max(xkeys) - min(xkeys) == 1 or dict_counts[min(xkeys)]==1):\n",
    "            return 'YES'\n",
    "\n",
    "    return 'NO'\n",
    "\n",
    "\n",
    "if __name__ == '__main__':\n",
    "    s = input()\n",
    "\n",
    "    result = isValid(s)\n",
    "\n",
    "    print(result + '\\n')\n"
   ]
  },
  {
   "cell_type": "code",
   "execution_count": null,
   "metadata": {},
   "outputs": [],
   "source": []
  }
 ],
 "metadata": {
  "kernelspec": {
   "display_name": "Python 3",
   "language": "python",
   "name": "python3"
  },
  "language_info": {
   "codemirror_mode": {
    "name": "ipython",
    "version": 3
   },
   "file_extension": ".py",
   "mimetype": "text/x-python",
   "name": "python",
   "nbconvert_exporter": "python",
   "pygments_lexer": "ipython3",
   "version": "3.7.7"
  }
 },
 "nbformat": 4,
 "nbformat_minor": 4
}
