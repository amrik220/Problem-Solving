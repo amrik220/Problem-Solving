{
 "cells": [
  {
   "cell_type": "code",
   "execution_count": 1,
   "metadata": {},
   "outputs": [
    {
     "name": "stdout",
     "output_type": "stream",
     "text": [
      "1\n",
      "abca\n",
      "{frozenset({('a', 1)}): 2, frozenset({('b', 1)}): 1, frozenset({('c', 1)}): 1, frozenset({('a', 1), ('b', 1)}): 1, frozenset({('c', 1), ('b', 1)}): 1, frozenset({('c', 1), ('a', 1)}): 1, frozenset({('c', 1), ('a', 1), ('b', 1)}): 2, frozenset({('c', 1), ('a', 2), ('b', 1)}): 1}\n",
      "2\n"
     ]
    }
   ],
   "source": [
    "#!/bin/python3\n",
    "\n",
    "import math\n",
    "import os\n",
    "import random\n",
    "import re\n",
    "import sys\n",
    "from collections import Counter\n",
    "\n",
    "# Complete the sherlockAndAnagrams function below.\n",
    "def sherlockAndAnagrams(s):\n",
    "    xchars = len(s)\n",
    "    xdict = {}\n",
    "    for x in range(xchars):\n",
    "        for y in range(xchars - x):\n",
    "            xkey = frozenset(Counter(s[y:y+x+1]).items())\n",
    "            xdict[xkey] = xdict.get(xkey, 0) + 1\n",
    "    \n",
    "    counts = 0\n",
    "    for xkey in xdict:\n",
    "        counts += xdict[xkey] * (xdict[xkey] - 1) // 2\n",
    "\n",
    "    print(xdict)\n",
    "    return counts\n",
    "    \n",
    "if __name__ == '__main__':\n",
    "    q = int(input())\n",
    "\n",
    "    for q_itr in range(q):\n",
    "        s = input()\n",
    "\n",
    "        result = sherlockAndAnagrams(s)\n",
    "\n",
    "        print(str(result))"
   ]
  },
  {
   "cell_type": "code",
   "execution_count": null,
   "metadata": {},
   "outputs": [],
   "source": []
  }
 ],
 "metadata": {
  "kernelspec": {
   "display_name": "Python 3",
   "language": "python",
   "name": "python3"
  },
  "language_info": {
   "codemirror_mode": {
    "name": "ipython",
    "version": 3
   },
   "file_extension": ".py",
   "mimetype": "text/x-python",
   "name": "python",
   "nbconvert_exporter": "python",
   "pygments_lexer": "ipython3",
   "version": "3.7.7"
  }
 },
 "nbformat": 4,
 "nbformat_minor": 4
}
